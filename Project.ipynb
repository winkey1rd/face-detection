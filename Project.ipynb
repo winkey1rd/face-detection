{
 "cells": [
  {
   "cell_type": "markdown",
   "id": "ff88d7ac",
   "metadata": {},
   "source": [
    "Закружаем библиотеки"
   ]
  },
  {
   "cell_type": "code",
   "execution_count": 1,
   "id": "7093404d",
   "metadata": {},
   "outputs": [],
   "source": [
    "import dlib\n",
    "from skimage import io\n",
    "from scipy.spatial import distance"
   ]
  },
  {
   "cell_type": "markdown",
   "id": "d243e1fb",
   "metadata": {},
   "source": [
    "Загружаем предварительно обученные модели"
   ]
  },
  {
   "cell_type": "code",
   "execution_count": 2,
   "id": "90897a07",
   "metadata": {},
   "outputs": [],
   "source": [
    "sp = dlib.shape_predictor('shape_predictor_68_face_landmarks.dat')\n",
    "facerec = dlib.face_recognition_model_v1('dlib_face_recognition_resnet_model_v1.dat')\n",
    "detector = dlib.get_frontal_face_detector()"
   ]
  },
  {
   "cell_type": "markdown",
   "id": "62eedac4",
   "metadata": {},
   "source": [
    "Загружаем фото с паспорта"
   ]
  },
  {
   "cell_type": "code",
   "execution_count": 3,
   "id": "460c8b10",
   "metadata": {},
   "outputs": [],
   "source": [
    "img = io.imread('pass.jpg')"
   ]
  },
  {
   "cell_type": "markdown",
   "id": "c70949dc",
   "metadata": {},
   "source": [
    "Выводим на экран"
   ]
  },
  {
   "cell_type": "code",
   "execution_count": 4,
   "id": "c5a0451d",
   "metadata": {},
   "outputs": [],
   "source": [
    "win1 = dlib.image_window()\n",
    "win1.clear_overlay()\n",
    "win1.set_image(img)"
   ]
  },
  {
   "cell_type": "markdown",
   "id": "dd68acde",
   "metadata": {},
   "source": [
    "Детектирование лица"
   ]
  },
  {
   "cell_type": "code",
   "execution_count": 5,
   "id": "15fc0778",
   "metadata": {},
   "outputs": [],
   "source": [
    "dets = detector(img, 1)"
   ]
  },
  {
   "cell_type": "code",
   "execution_count": 6,
   "id": "a61cc20e",
   "metadata": {},
   "outputs": [
    {
     "name": "stdout",
     "output_type": "stream",
     "text": [
      "Detection 0: Left: 357 Top: 869 Right: 1508 Bottom: 2019\n"
     ]
    }
   ],
   "source": [
    "for k, d in enumerate(dets):\n",
    "    print(\"Detection {}: Left: {} Top: {} Right: {} Bottom: {}\".format(\n",
    "        k, d.left(), d.top(), d.right(), d.bottom()))\n",
    "    shape = sp(img, d)\n",
    "    win1.clear_overlay()\n",
    "    win1.add_overlay(d)\n",
    "    win1.add_overlay(shape)"
   ]
  },
  {
   "cell_type": "markdown",
   "id": "902a77a2",
   "metadata": {},
   "source": [
    "Извлечение дескриптора"
   ]
  },
  {
   "cell_type": "code",
   "execution_count": 7,
   "id": "2b588a56",
   "metadata": {},
   "outputs": [],
   "source": [
    "face_descriptor1 = facerec.compute_face_descriptor(img, shape)"
   ]
  },
  {
   "cell_type": "markdown",
   "id": "055f2306",
   "metadata": {},
   "source": [
    "Аналогичные действия для 2 фото (текущая моя фотография)"
   ]
  },
  {
   "cell_type": "code",
   "execution_count": 8,
   "id": "a002692b",
   "metadata": {},
   "outputs": [
    {
     "name": "stdout",
     "output_type": "stream",
     "text": [
      "Detection 0: Left: 70 Top: 514 Right: 869 Bottom: 1313\n"
     ]
    }
   ],
   "source": [
    "img = io.imread('man1.jpg')\n",
    "win2 = dlib.image_window()\n",
    "win2.clear_overlay()\n",
    "win2.set_image(img)\n",
    "dets_webcam = detector(img, 1)\n",
    "for k, d in enumerate(dets_webcam):\n",
    "    print(\"Detection {}: Left: {} Top: {} Right: {} Bottom: {}\".format(\n",
    "        k, d.left(), d.top(), d.right(), d.bottom()))\n",
    "    shape = sp(img, d)\n",
    "    win2.clear_overlay()\n",
    "    win2.add_overlay(d)\n",
    "    win2.add_overlay(shape)"
   ]
  },
  {
   "cell_type": "code",
   "execution_count": 9,
   "id": "956bd4a9",
   "metadata": {},
   "outputs": [],
   "source": [
    "face_descriptor2 = facerec.compute_face_descriptor(img, shape)"
   ]
  },
  {
   "cell_type": "markdown",
   "id": "feb63da9",
   "metadata": {},
   "source": [
    "Фото с братом"
   ]
  },
  {
   "cell_type": "code",
   "execution_count": 10,
   "id": "a3b321ed",
   "metadata": {},
   "outputs": [
    {
     "name": "stdout",
     "output_type": "stream",
     "text": [
      "Detection 0: Left: 10 Top: 82 Right: 139 Bottom: 211\n"
     ]
    }
   ],
   "source": [
    "img = io.imread('man2.jpg')\n",
    "win3 = dlib.image_window()\n",
    "win3.clear_overlay()\n",
    "win3.set_image(img)\n",
    "dets_webcam = detector(img, 1)\n",
    "for k, d in enumerate(dets_webcam):\n",
    "    print(\"Detection {}: Left: {} Top: {} Right: {} Bottom: {}\".format(\n",
    "        k, d.left(), d.top(), d.right(), d.bottom()))\n",
    "    shape = sp(img, d)\n",
    "    win3.clear_overlay()\n",
    "    win3.add_overlay(d)\n",
    "    win3.add_overlay(shape)"
   ]
  },
  {
   "cell_type": "code",
   "execution_count": 11,
   "id": "f3062282",
   "metadata": {},
   "outputs": [],
   "source": [
    "face_descriptor3 = facerec.compute_face_descriptor(img, shape)"
   ]
  },
  {
   "cell_type": "markdown",
   "id": "12cd1e6d",
   "metadata": {},
   "source": [
    "Извлекаем Евклидову меру (если меньше 0.6, то один и тот же человек)"
   ]
  },
  {
   "cell_type": "code",
   "execution_count": 12,
   "id": "271fdcff",
   "metadata": {},
   "outputs": [
    {
     "name": "stdout",
     "output_type": "stream",
     "text": [
      "0.5371025196186255\n"
     ]
    }
   ],
   "source": [
    "a = distance.euclidean(face_descriptor1, face_descriptor2)\n",
    "print(a)"
   ]
  },
  {
   "cell_type": "code",
   "execution_count": 13,
   "id": "115a3dec",
   "metadata": {},
   "outputs": [
    {
     "name": "stdout",
     "output_type": "stream",
     "text": [
      "0.6541902620468042\n"
     ]
    }
   ],
   "source": [
    "a = distance.euclidean(face_descriptor1, face_descriptor3)\n",
    "print(a)"
   ]
  },
  {
   "cell_type": "markdown",
   "id": "cbb96f2a",
   "metadata": {},
   "source": [
    "Довольно приграничные результаты, однако достоверные"
   ]
  },
  {
   "cell_type": "markdown",
   "id": "51cd94eb",
   "metadata": {},
   "source": [
    "Моё старое фото"
   ]
  },
  {
   "cell_type": "code",
   "execution_count": 14,
   "id": "4b7a0a74",
   "metadata": {},
   "outputs": [
    {
     "name": "stdout",
     "output_type": "stream",
     "text": [
      "Detection 0: Left: 419 Top: 598 Right: 740 Bottom: 919\n"
     ]
    }
   ],
   "source": [
    "img = io.imread('man11.jpg')\n",
    "win4 = dlib.image_window()\n",
    "win4.clear_overlay()\n",
    "win4.set_image(img)\n",
    "dets_webcam = detector(img, 1)\n",
    "for k, d in enumerate(dets_webcam):\n",
    "    print(\"Detection {}: Left: {} Top: {} Right: {} Bottom: {}\".format(\n",
    "        k, d.left(), d.top(), d.right(), d.bottom()))\n",
    "    shape = sp(img, d)\n",
    "    win4.clear_overlay()\n",
    "    win4.add_overlay(d)\n",
    "    win4.add_overlay(shape)"
   ]
  },
  {
   "cell_type": "code",
   "execution_count": 15,
   "id": "09f098a8",
   "metadata": {},
   "outputs": [],
   "source": [
    "face_descriptor4 = facerec.compute_face_descriptor(img, shape)"
   ]
  },
  {
   "cell_type": "code",
   "execution_count": 16,
   "id": "43ee5ba8",
   "metadata": {},
   "outputs": [
    {
     "name": "stdout",
     "output_type": "stream",
     "text": [
      "0.36843850640724773\n"
     ]
    }
   ],
   "source": [
    "a = distance.euclidean(face_descriptor1, face_descriptor4)\n",
    "print(a)"
   ]
  },
  {
   "cell_type": "markdown",
   "id": "ec59b14a",
   "metadata": {},
   "source": [
    "Довольно уверенно определила сходство"
   ]
  },
  {
   "cell_type": "markdown",
   "id": "863ed16e",
   "metadata": {},
   "source": [
    "Фото сестры"
   ]
  },
  {
   "cell_type": "code",
   "execution_count": 17,
   "id": "f41dbd60",
   "metadata": {},
   "outputs": [
    {
     "name": "stdout",
     "output_type": "stream",
     "text": [
      "Detection 0: Left: 557 Top: 201 Right: 825 Bottom: 468\n"
     ]
    }
   ],
   "source": [
    "img = io.imread('girl.jpg')\n",
    "win5 = dlib.image_window()\n",
    "win5.clear_overlay()\n",
    "win5.set_image(img)\n",
    "dets_webcam = detector(img, 1)\n",
    "for k, d in enumerate(dets_webcam):\n",
    "    print(\"Detection {}: Left: {} Top: {} Right: {} Bottom: {}\".format(\n",
    "        k, d.left(), d.top(), d.right(), d.bottom()))\n",
    "    shape = sp(img, d)\n",
    "    win5.clear_overlay()\n",
    "    win5.add_overlay(d)\n",
    "    win5.add_overlay(shape)"
   ]
  },
  {
   "cell_type": "code",
   "execution_count": 18,
   "id": "13f43bed",
   "metadata": {},
   "outputs": [],
   "source": [
    "face_descriptor5 = facerec.compute_face_descriptor(img, shape)"
   ]
  },
  {
   "cell_type": "code",
   "execution_count": 19,
   "id": "2e5210fb",
   "metadata": {},
   "outputs": [
    {
     "name": "stdout",
     "output_type": "stream",
     "text": [
      "0.6657260028422823\n"
     ]
    }
   ],
   "source": [
    "a = distance.euclidean(face_descriptor1, face_descriptor5)\n",
    "print(a)"
   ]
  },
  {
   "cell_type": "markdown",
   "id": "c0dbdb74",
   "metadata": {},
   "source": [
    "Имеется большой процент схожести, однако определено, что другой человек"
   ]
  },
  {
   "cell_type": "markdown",
   "id": "51269c40",
   "metadata": {},
   "source": [
    "Фото незнакомого человека"
   ]
  },
  {
   "cell_type": "code",
   "execution_count": 21,
   "id": "f2fd8632",
   "metadata": {},
   "outputs": [
    {
     "name": "stdout",
     "output_type": "stream",
     "text": [
      "Detection 0: Left: 118 Top: 247 Right: 504 Bottom: 632\n"
     ]
    }
   ],
   "source": [
    "img = io.imread('man3.jpg')\n",
    "win6 = dlib.image_window()\n",
    "win6.clear_overlay()\n",
    "win6.set_image(img)\n",
    "dets_webcam = detector(img, 1)\n",
    "for k, d in enumerate(dets_webcam):\n",
    "    print(\"Detection {}: Left: {} Top: {} Right: {} Bottom: {}\".format(\n",
    "        k, d.left(), d.top(), d.right(), d.bottom()))\n",
    "    shape = sp(img, d)\n",
    "    win6.clear_overlay()\n",
    "    win6.add_overlay(d)\n",
    "    win6.add_overlay(shape)"
   ]
  },
  {
   "cell_type": "code",
   "execution_count": 22,
   "id": "9f0b7228",
   "metadata": {},
   "outputs": [],
   "source": [
    "face_descriptor6 = facerec.compute_face_descriptor(img, shape)"
   ]
  },
  {
   "cell_type": "code",
   "execution_count": 23,
   "id": "801b3f44",
   "metadata": {},
   "outputs": [
    {
     "name": "stdout",
     "output_type": "stream",
     "text": [
      "0.7758200013573618\n"
     ]
    }
   ],
   "source": [
    "a = distance.euclidean(face_descriptor1, face_descriptor6)\n",
    "print(a)"
   ]
  },
  {
   "cell_type": "markdown",
   "id": "1d11ff39",
   "metadata": {},
   "source": [
    "С легкостью определено несоответствие лиц"
   ]
  }
 ],
 "metadata": {
  "kernelspec": {
   "display_name": "Python 3 (ipykernel)",
   "language": "python",
   "name": "python3"
  },
  "language_info": {
   "codemirror_mode": {
    "name": "ipython",
    "version": 3
   },
   "file_extension": ".py",
   "mimetype": "text/x-python",
   "name": "python",
   "nbconvert_exporter": "python",
   "pygments_lexer": "ipython3",
   "version": "3.9.7"
  }
 },
 "nbformat": 4,
 "nbformat_minor": 5
}
